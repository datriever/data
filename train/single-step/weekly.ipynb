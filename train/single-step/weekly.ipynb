{
 "cells": [
  {
   "cell_type": "markdown",
   "metadata": {},
   "source": [
    "# Single Step Prediction\n",
    "\n",
    "Training on market prices $x_1,...,x_n$:\n",
    "\n",
    "- Input: prices $x_1,...,x_s$, where $s = 7\\cdot 24$ (1 week)\n",
    "- Output: prediction for next price $x_{s+1}$"
   ]
  },
  {
   "cell_type": "code",
   "execution_count": 29,
   "metadata": {},
   "outputs": [],
   "source": [
    "import os\n",
    "import torch\n",
    "from torch import nn, Tensor, optim\n",
    "import numpy as np\n",
    "from sklearn.preprocessing import MinMaxScaler\n",
    "from torch.utils.data import DataLoader, Dataset\n",
    "import matplotlib.pyplot as plt\n",
    "import pandas as pd\n",
    "\n",
    "df = pd.read_csv('../../data/time.csv')\n",
    "raw_data = np.array(df['GRID (OMIE) Price (€/MWh)'].values)\n",
    "scaler = MinMaxScaler()\n",
    "data = scaler.fit_transform(raw_data.reshape(-1, 1)).reshape(-1)"
   ]
  },
  {
   "cell_type": "code",
   "execution_count": null,
   "metadata": {},
   "outputs": [],
   "source": [
    "class TimeSeriesDataset(Dataset):\n",
    "  def __init__(self, data: np.ndarray, seq_len: int):\n",
    "    self.data = data\n",
    "    self.seq_len = seq_len\n",
    "\n",
    "  def __len__(self):\n",
    "    return len(self.data) - self.seq_len\n",
    "\n",
    "  def __getitem__(self, idx: int):\n",
    "    end = idx+self.seq_len\n",
    "    x = self.data[idx:end] # input: data[idx], data[idx+1], ..., data[end-1]\n",
    "    y = self.data[end] # output: data[end]\n",
    "    return torch.tensor(x, dtype=torch.float32), torch.tensor(y, dtype=torch.float32)\n",
    "  \n",
    "train_size = int(len(data) * 0.8)\n",
    "train_data = data[:train_size]\n",
    "test_data = data[train_size:]\n",
    "\n",
    "SEQ_LEN = 7*24 # input sequence length (1 week)\n",
    "train_ds = TimeSeriesDataset(train_data, SEQ_LEN)\n",
    "test_ds = TimeSeriesDataset(test_data, SEQ_LEN)\n",
    "\n",
    "train_loader = DataLoader(train_ds, batch_size=128, shuffle=True)\n",
    "test_loader = DataLoader(test_ds, batch_size=128, shuffle=False)"
   ]
  },
  {
   "cell_type": "code",
   "execution_count": 33,
   "metadata": {},
   "outputs": [],
   "source": [
    "class LSTMModel(nn.Module):\n",
    "  def __init__(self, hidden_size = 50, num_layers = 2):\n",
    "    super(LSTMModel, self).__init__()\n",
    "    self.num_layers = num_layers\n",
    "    self.hidden_size = hidden_size\n",
    "    self.lstm = nn.LSTM(input_size=1, hidden_size=hidden_size, num_layers=num_layers, batch_first=True)\n",
    "    self.fc = nn.Linear(hidden_size, 1)\n",
    "\n",
    "  def forward(self, x: Tensor):\n",
    "    \"\"\"\n",
    "    - `x`: shape (batch, seq_len)\n",
    "    - output: shape (batch,)\n",
    "    \"\"\"\n",
    "    out, _ = self.lstm(x[..., None].float())\n",
    "    pred = out[:, -1] # last time step only\n",
    "    return self.fc(pred)[:, 0]\n",
    "  \n",
    "def train_step(\n",
    "    model, x: Tensor, y: Tensor,\n",
    "    *, opt: optim.Optimizer, criterion\n",
    "  ) -> float:\n",
    "    \"\"\"\n",
    "    - `x`: shape (batch, seq_len)\n",
    "    - `y`: shape (batch,)\n",
    "    \"\"\"\n",
    "    if not model.training:\n",
    "      model.train()\n",
    "    opt.zero_grad()\n",
    "    z = model(x)\n",
    "    loss: Tensor = criterion(z, y)\n",
    "    loss.backward()\n",
    "    opt.step()\n",
    "    return loss.item()\n",
    "  \n",
    "def eval_step(\n",
    "  model, x: Tensor, y: Tensor,\n",
    "  *, criterion\n",
    ") -> float:\n",
    "  \"\"\"\n",
    "  - `x`: shape (batch, seq_len)\n",
    "  - `y`: shape (batch,)\n",
    "  \"\"\"\n",
    "  if model.training:\n",
    "    model.eval()\n",
    "  with torch.no_grad():\n",
    "    z = model(x)\n",
    "    loss: Tensor = criterion(z, y)\n",
    "    return loss.item()\n",
    "  \n",
    "model = LSTMModel()\n",
    "criterion = nn.MSELoss()\n",
    "opt = optim.Adam(model.parameters(), lr=0.001)"
   ]
  },
  {
   "cell_type": "code",
   "execution_count": null,
   "metadata": {},
   "outputs": [
    {
     "name": "stdout",
     "output_type": "stream",
     "text": [
      "Epoch 1, train_loss=0.029752, test_loss=0.012230                                                                                \n",
      "Epoch 2, train_loss=0.008912, test_loss=0.011122                                                                                \n",
      "Epoch 3, train_loss=0.007475, test_loss=0.007953                                                                                \n",
      "Epoch 4, train_loss=0.008796, test_loss=0.007393                                                                                \n",
      "Epoch 5, train_loss=0.006198, test_loss=0.004913                                                                                \n",
      "Epoch 6, train_loss=0.005182, test_loss=0.004196                                                                                \n",
      "Epoch 7, train_loss=0.004954, test_loss=0.003694                                                                                \n",
      "Epoch 8, train_loss=0.004824, test_loss=0.003535                                                                                \n",
      "Epoch 9, train_loss=0.004724, test_loss=0.003412                                                                                \n",
      "Epoch 10, train_loss=0.004591, test_loss=0.003662                                                                                \n",
      "Epoch 11, train_loss=0.004391, test_loss=0.003059                                                                                \n",
      "Epoch 12, train_loss=0.004153, test_loss=0.002933                                                                                \n",
      "Epoch 13, train_loss=0.003848, test_loss=0.002582                                                                                \n",
      "Epoch 14, train_loss=0.003211, test_loss=0.002050                                                                                \n",
      "Epoch 15, train_loss=0.002151, test_loss=0.001619                                                                                \n",
      "Epoch 16, train_loss=0.001660, test_loss=0.001398                                                                                \n",
      "Epoch 17, train_loss=0.001350, test_loss=0.001163                                                                                \n",
      "Epoch 18, train_loss=0.001235, test_loss=0.000996                                                                                \n",
      "Epoch 19, train_loss=0.001112, test_loss=0.000954                                                                                \n",
      "Epoch 20, train_loss=0.001033, test_loss=0.000867                                                                                \n",
      "Epoch 21, train_loss=0.000990, test_loss=0.000804                                                                                \n",
      "Epoch 22, train_loss=0.000961, test_loss=0.000784                                                                                \n",
      "Epoch 23, train_loss=0.000885, test_loss=0.000686                                                                                \n",
      "Epoch 24, train_loss=0.000874, test_loss=0.000885                                                                                \n",
      "Epoch 25, train_loss=0.000905, test_loss=0.000560                                                                                \n",
      "Epoch 26, train_loss=0.000800, test_loss=0.000547                                                                                \n",
      "Epoch 27, train_loss=0.000800, test_loss=0.000498                                                                                \n",
      "Epoch 28, train_loss=0.000796, test_loss=0.000489                                                                                \n",
      "Epoch 29, train_loss=0.000751, test_loss=0.000518                                                                                \n",
      "Epoch 30, train_loss=0.000730, test_loss=0.000483                                                                                \n",
      "Epoch 31, train_loss=0.000736, test_loss=0.000451                                                                                \n",
      "Epoch 32, train_loss=0.000713, test_loss=0.000453                                                                                \n",
      "Epoch 33, train_loss=0.000749, test_loss=0.000420                                                                                \n",
      "Epoch 34, train_loss=0.000732, test_loss=0.000441                                                                                \n",
      "Epoch 35, train_loss=0.000715, test_loss=0.000426                                                                                \n",
      "Epoch 36, train_loss=0.000728, test_loss=0.000455                                                                                \n",
      "Epoch 37, train_loss=0.000700, test_loss=0.000435                                                                                \n",
      "Epoch 38, train_loss=0.000714, test_loss=0.000424                                                                                \n",
      "Epoch 39, train_loss=0.000697, test_loss=0.000420                                                                                \n",
      "Epoch 40, train_loss=0.000694, test_loss=0.000486                                                                                \n",
      "Epoch 41, train_loss=0.000719, test_loss=0.000425                                                                                \n",
      "Epoch 42, train_loss=0.000703, test_loss=0.000489                                                                                \n",
      "Epoch 43, train_loss=0.000703, test_loss=0.000450                                                                                \n",
      "Epoch 44, train_loss=0.000708, test_loss=0.000432                                                                                \n",
      "Epoch 45, train_loss=0.000699, test_loss=0.000425                                                                                \n",
      "Epoch 46, train_loss=0.000685, test_loss=0.000396                                                                                \n",
      "Epoch 47, train_loss=0.000668, test_loss=0.000386                                                                                \n",
      "Epoch 48, train_loss=0.000699, test_loss=0.000447                                                                                \n",
      "Epoch 49, train_loss=0.000688, test_loss=0.000410                                                                                \n",
      "Epoch 50, train_loss=0.000679, test_loss=0.000397                                                                                \n"
     ]
    }
   ],
   "source": [
    "RUN_NAME = 'weekly'\n",
    "os.makedirs(f'checkpoints/{RUN_NAME}', exist_ok=True)\n",
    "\n",
    "for epoch in range(50):\n",
    "  n = len(train_loader)\n",
    "  model.train()\n",
    "  losses = []\n",
    "  for i, (x, y) in enumerate(train_loader):\n",
    "    print(f'\\rEpoch {epoch+1} [{i+1}/{n} ({(i+1)/n:.2%})]...', end='', flush=True)\n",
    "    loss = train_step(model, x, y, opt=opt, criterion=criterion)\n",
    "    losses.append(loss)\n",
    "\n",
    "  train_loss = torch.tensor(losses).mean().item()\n",
    "\n",
    "  losses = []\n",
    "  n = len(test_loader)\n",
    "  for i, (x, y) in enumerate(test_loader):\n",
    "    print(f'\\rEpoch {epoch+1}, train_loss={train_loss:.6f}. Evaluating... [{i+1}/{n} ({(i+1)/n:.2%})]', end='', flush=True)\n",
    "    loss = eval_step(model, x, y, criterion=criterion)\n",
    "    losses.append(loss)\n",
    "\n",
    "  test_loss = torch.tensor(losses).mean().item()\n",
    "  print(f'\\rEpoch {epoch+1}, train_loss={train_loss:.6f}, test_loss={test_loss:.6f}' + ' '*80)\n",
    "  torch.save(model.state_dict(), f'checkpoints/{RUN_NAME}/{epoch+1}.pth')"
   ]
  },
  {
   "cell_type": "code",
   "execution_count": 35,
   "metadata": {},
   "outputs": [
    {
     "name": "stdout",
     "output_type": "stream",
     "text": [
      "Loading 7day\n"
     ]
    },
    {
     "data": {
      "text/plain": [
       "LSTMModel(\n",
       "  (lstm): LSTM(1, 50, num_layers=2, batch_first=True)\n",
       "  (fc): Linear(in_features=50, out_features=1, bias=True)\n",
       ")"
      ]
     },
     "execution_count": 35,
     "metadata": {},
     "output_type": "execute_result"
    }
   ],
   "source": [
    "def generate(model: LSTMModel, input: Tensor, steps: int):\n",
    "  \"\"\"Generate `steps` predictions by feeding the model outputs as inputs in the next step.\n",
    "  - `input`: initial sequence of prices, shape (seq_len,)\n",
    "  - Returns: predicted prices, shape (steps,)\n",
    "  \"\"\"\n",
    "  model.eval()\n",
    "  input_seq = input.clone()\n",
    "  preds = []\n",
    "\n",
    "  for _ in range(steps):\n",
    "    with torch.no_grad():\n",
    "      output: Tensor = model(input_seq[None, ...])\n",
    "      preds.append(output.item())\n",
    "      input_seq = torch.cat((input_seq[1:], output), 0)\n",
    "\n",
    "  return torch.tensor(preds)\n",
    "\n",
    "\n",
    "print(f'Loading {RUN_NAME}')\n",
    "model.load_state_dict(torch.load(f'checkpoints/{RUN_NAME}/47.pth', weights_only=True))\n",
    "model.eval()"
   ]
  },
  {
   "cell_type": "code",
   "execution_count": null,
   "metadata": {},
   "outputs": [
    {
     "data": {
      "text/plain": [
       "[<matplotlib.lines.Line2D at 0x7f2a51771ed0>]"
      ]
     },
     "execution_count": 39,
     "metadata": {},
     "output_type": "execute_result"
    },
    {
     "data": {
      "image/png": "[encoded data removed]",
      "text/plain": [
       "<Figure size 640x480 with 1 Axes>"
      ]
     },
     "metadata": {},
     "output_type": "display_data"
    }
   ],
   "source": [
    "pred_steps = 24\n",
    "inp = torch.tensor(test_data[:SEQ_LEN], dtype=torch.float32)\n",
    "preds = generate(model, inp, pred_steps)\n",
    "\n",
    "plt.plot(test_data[:SEQ_LEN+pred_steps], label='true')\n",
    "plt.plot(np.arange(SEQ_LEN, SEQ_LEN+pred_steps), preds, label='predicted')"
   ]
  }
 ],
 "metadata": {
  "kernelspec": {
   "display_name": ".venv",
   "language": "python",
   "name": "python3"
  },
  "language_info": {
   "codemirror_mode": {
    "name": "ipython",
    "version": 3
   },
   "file_extension": ".py",
   "mimetype": "text/x-python",
   "name": "python",
   "nbconvert_exporter": "python",
   "pygments_lexer": "ipython3",
   "version": "3.11.10"
  }
 },
 "nbformat": 4,
 "nbformat_minor": 2
}
